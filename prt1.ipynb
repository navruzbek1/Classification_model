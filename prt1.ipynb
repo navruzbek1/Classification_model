{
  "nbformat": 4,
  "nbformat_minor": 0,
  "metadata": {
    "colab": {
      "name": "Untitled99.ipynb",
      "provenance": []
    },
    "kernelspec": {
      "name": "python3",
      "display_name": "Python 3"
    },
    "language_info": {
      "name": "python"
    }
  },
  "cells": [
    {
      "cell_type": "markdown",
      "source": [
        "# Bemorlarni klassifikatsiya qilish\n",
        "*   Model:Supervised\n",
        "*   Algoritm:Klassifikatsiya\n",
        "*   Usul:Ofline\n",
        "\n",
        "\n",
        "\n",
        "\n",
        "\n",
        "\n"
      ],
      "metadata": {
        "id": "OzCK6_kwoHx4"
      }
    },
    {
      "cell_type": "code",
      "execution_count": 172,
      "metadata": {
        "id": "QRocTFo4cd07"
      },
      "outputs": [],
      "source": [
        "import pandas as pd\n",
        "import numpy as np\n",
        "import seaborn as sns\n",
        "import matplotlib.pyplot as plt\n",
        "from sklearn.tree import DecisionTreeClassifier\n",
        "from sklearn.ensemble import RandomForestClassifier\n",
        "from xgboost import XGBClassifier\n",
        "from sklearn.metrics import f1_score,accuracy_score,confusion_matrix,classification_report\n",
        "from sklearn import metrics\n",
        "import pickle\n",
        "%matplotlib inline"
      ]
    },
    {
      "cell_type": "code",
      "source": [
        "df = pd.read_csv(\"/content/bodyPerformanceI.csv\")\n",
        "df.head()"
      ],
      "metadata": {
        "colab": {
          "base_uri": "https://localhost:8080/",
          "height": 305
        },
        "id": "S2PvZ2KIcjkr",
        "outputId": "79e8dd84-603f-44ce-f369-e24cd4a89f89"
      },
      "execution_count": 70,
      "outputs": [
        {
          "output_type": "execute_result",
          "data": {
            "text/plain": [
              "    age gender  height_cm  weight_kg  body fat_%  diastolic  systolic  \\\n",
              "0  24.0      F      152.4       42.5        23.4       57.0     112.0   \n",
              "1  27.0      F      162.1       70.9        35.7       97.0     148.0   \n",
              "2  23.0      M      173.7       68.3        13.6       76.0     137.0   \n",
              "3  31.0      M      168.2       70.5        15.5       82.0     145.0   \n",
              "4  25.0      M      175.1       64.8         6.9       65.0     118.0   \n",
              "\n",
              "   gripForce  sit and bend forward_cm  sit-ups counts  broad jump_cm class  \n",
              "0       27.4                     14.2            50.0          184.0     C  \n",
              "1       30.6                     11.0            42.0          157.0     D  \n",
              "2       47.7                     16.5            48.0          208.0     C  \n",
              "3       39.6                     19.9            66.0          264.0     C  \n",
              "4       42.0                     19.8            49.0          252.0     B  "
            ],
            "text/html": [
              "\n",
              "  <div id=\"df-b9aee57b-abd3-4833-a850-e80a896e7d56\">\n",
              "    <div class=\"colab-df-container\">\n",
              "      <div>\n",
              "<style scoped>\n",
              "    .dataframe tbody tr th:only-of-type {\n",
              "        vertical-align: middle;\n",
              "    }\n",
              "\n",
              "    .dataframe tbody tr th {\n",
              "        vertical-align: top;\n",
              "    }\n",
              "\n",
              "    .dataframe thead th {\n",
              "        text-align: right;\n",
              "    }\n",
              "</style>\n",
              "<table border=\"1\" class=\"dataframe\">\n",
              "  <thead>\n",
              "    <tr style=\"text-align: right;\">\n",
              "      <th></th>\n",
              "      <th>age</th>\n",
              "      <th>gender</th>\n",
              "      <th>height_cm</th>\n",
              "      <th>weight_kg</th>\n",
              "      <th>body fat_%</th>\n",
              "      <th>diastolic</th>\n",
              "      <th>systolic</th>\n",
              "      <th>gripForce</th>\n",
              "      <th>sit and bend forward_cm</th>\n",
              "      <th>sit-ups counts</th>\n",
              "      <th>broad jump_cm</th>\n",
              "      <th>class</th>\n",
              "    </tr>\n",
              "  </thead>\n",
              "  <tbody>\n",
              "    <tr>\n",
              "      <th>0</th>\n",
              "      <td>24.0</td>\n",
              "      <td>F</td>\n",
              "      <td>152.4</td>\n",
              "      <td>42.5</td>\n",
              "      <td>23.4</td>\n",
              "      <td>57.0</td>\n",
              "      <td>112.0</td>\n",
              "      <td>27.4</td>\n",
              "      <td>14.2</td>\n",
              "      <td>50.0</td>\n",
              "      <td>184.0</td>\n",
              "      <td>C</td>\n",
              "    </tr>\n",
              "    <tr>\n",
              "      <th>1</th>\n",
              "      <td>27.0</td>\n",
              "      <td>F</td>\n",
              "      <td>162.1</td>\n",
              "      <td>70.9</td>\n",
              "      <td>35.7</td>\n",
              "      <td>97.0</td>\n",
              "      <td>148.0</td>\n",
              "      <td>30.6</td>\n",
              "      <td>11.0</td>\n",
              "      <td>42.0</td>\n",
              "      <td>157.0</td>\n",
              "      <td>D</td>\n",
              "    </tr>\n",
              "    <tr>\n",
              "      <th>2</th>\n",
              "      <td>23.0</td>\n",
              "      <td>M</td>\n",
              "      <td>173.7</td>\n",
              "      <td>68.3</td>\n",
              "      <td>13.6</td>\n",
              "      <td>76.0</td>\n",
              "      <td>137.0</td>\n",
              "      <td>47.7</td>\n",
              "      <td>16.5</td>\n",
              "      <td>48.0</td>\n",
              "      <td>208.0</td>\n",
              "      <td>C</td>\n",
              "    </tr>\n",
              "    <tr>\n",
              "      <th>3</th>\n",
              "      <td>31.0</td>\n",
              "      <td>M</td>\n",
              "      <td>168.2</td>\n",
              "      <td>70.5</td>\n",
              "      <td>15.5</td>\n",
              "      <td>82.0</td>\n",
              "      <td>145.0</td>\n",
              "      <td>39.6</td>\n",
              "      <td>19.9</td>\n",
              "      <td>66.0</td>\n",
              "      <td>264.0</td>\n",
              "      <td>C</td>\n",
              "    </tr>\n",
              "    <tr>\n",
              "      <th>4</th>\n",
              "      <td>25.0</td>\n",
              "      <td>M</td>\n",
              "      <td>175.1</td>\n",
              "      <td>64.8</td>\n",
              "      <td>6.9</td>\n",
              "      <td>65.0</td>\n",
              "      <td>118.0</td>\n",
              "      <td>42.0</td>\n",
              "      <td>19.8</td>\n",
              "      <td>49.0</td>\n",
              "      <td>252.0</td>\n",
              "      <td>B</td>\n",
              "    </tr>\n",
              "  </tbody>\n",
              "</table>\n",
              "</div>\n",
              "      <button class=\"colab-df-convert\" onclick=\"convertToInteractive('df-b9aee57b-abd3-4833-a850-e80a896e7d56')\"\n",
              "              title=\"Convert this dataframe to an interactive table.\"\n",
              "              style=\"display:none;\">\n",
              "        \n",
              "  <svg xmlns=\"http://www.w3.org/2000/svg\" height=\"24px\"viewBox=\"0 0 24 24\"\n",
              "       width=\"24px\">\n",
              "    <path d=\"M0 0h24v24H0V0z\" fill=\"none\"/>\n",
              "    <path d=\"M18.56 5.44l.94 2.06.94-2.06 2.06-.94-2.06-.94-.94-2.06-.94 2.06-2.06.94zm-11 1L8.5 8.5l.94-2.06 2.06-.94-2.06-.94L8.5 2.5l-.94 2.06-2.06.94zm10 10l.94 2.06.94-2.06 2.06-.94-2.06-.94-.94-2.06-.94 2.06-2.06.94z\"/><path d=\"M17.41 7.96l-1.37-1.37c-.4-.4-.92-.59-1.43-.59-.52 0-1.04.2-1.43.59L10.3 9.45l-7.72 7.72c-.78.78-.78 2.05 0 2.83L4 21.41c.39.39.9.59 1.41.59.51 0 1.02-.2 1.41-.59l7.78-7.78 2.81-2.81c.8-.78.8-2.07 0-2.86zM5.41 20L4 18.59l7.72-7.72 1.47 1.35L5.41 20z\"/>\n",
              "  </svg>\n",
              "      </button>\n",
              "      \n",
              "  <style>\n",
              "    .colab-df-container {\n",
              "      display:flex;\n",
              "      flex-wrap:wrap;\n",
              "      gap: 12px;\n",
              "    }\n",
              "\n",
              "    .colab-df-convert {\n",
              "      background-color: #E8F0FE;\n",
              "      border: none;\n",
              "      border-radius: 50%;\n",
              "      cursor: pointer;\n",
              "      display: none;\n",
              "      fill: #1967D2;\n",
              "      height: 32px;\n",
              "      padding: 0 0 0 0;\n",
              "      width: 32px;\n",
              "    }\n",
              "\n",
              "    .colab-df-convert:hover {\n",
              "      background-color: #E2EBFA;\n",
              "      box-shadow: 0px 1px 2px rgba(60, 64, 67, 0.3), 0px 1px 3px 1px rgba(60, 64, 67, 0.15);\n",
              "      fill: #174EA6;\n",
              "    }\n",
              "\n",
              "    [theme=dark] .colab-df-convert {\n",
              "      background-color: #3B4455;\n",
              "      fill: #D2E3FC;\n",
              "    }\n",
              "\n",
              "    [theme=dark] .colab-df-convert:hover {\n",
              "      background-color: #434B5C;\n",
              "      box-shadow: 0px 1px 3px 1px rgba(0, 0, 0, 0.15);\n",
              "      filter: drop-shadow(0px 1px 2px rgba(0, 0, 0, 0.3));\n",
              "      fill: #FFFFFF;\n",
              "    }\n",
              "  </style>\n",
              "\n",
              "      <script>\n",
              "        const buttonEl =\n",
              "          document.querySelector('#df-b9aee57b-abd3-4833-a850-e80a896e7d56 button.colab-df-convert');\n",
              "        buttonEl.style.display =\n",
              "          google.colab.kernel.accessAllowed ? 'block' : 'none';\n",
              "\n",
              "        async function convertToInteractive(key) {\n",
              "          const element = document.querySelector('#df-b9aee57b-abd3-4833-a850-e80a896e7d56');\n",
              "          const dataTable =\n",
              "            await google.colab.kernel.invokeFunction('convertToInteractive',\n",
              "                                                     [key], {});\n",
              "          if (!dataTable) return;\n",
              "\n",
              "          const docLinkHtml = 'Like what you see? Visit the ' +\n",
              "            '<a target=\"_blank\" href=https://colab.research.google.com/notebooks/data_table.ipynb>data table notebook</a>'\n",
              "            + ' to learn more about interactive tables.';\n",
              "          element.innerHTML = '';\n",
              "          dataTable['output_type'] = 'display_data';\n",
              "          await google.colab.output.renderOutput(dataTable, element);\n",
              "          const docLink = document.createElement('div');\n",
              "          docLink.innerHTML = docLinkHtml;\n",
              "          element.appendChild(docLink);\n",
              "        }\n",
              "      </script>\n",
              "    </div>\n",
              "  </div>\n",
              "  "
            ]
          },
          "metadata": {},
          "execution_count": 70
        }
      ]
    },
    {
      "cell_type": "code",
      "source": [
        "df.shape"
      ],
      "metadata": {
        "colab": {
          "base_uri": "https://localhost:8080/"
        },
        "id": "uDhNqh2CdrwK",
        "outputId": "1d1c2b37-3f14-45c5-9ee2-387554484f19"
      },
      "execution_count": 6,
      "outputs": [
        {
          "output_type": "execute_result",
          "data": {
            "text/plain": [
              "(7015, 12)"
            ]
          },
          "metadata": {},
          "execution_count": 6
        }
      ]
    },
    {
      "cell_type": "code",
      "source": [
        "df.isnull().sum()"
      ],
      "metadata": {
        "colab": {
          "base_uri": "https://localhost:8080/"
        },
        "id": "j3ECLnAOdv5F",
        "outputId": "e9c3802d-4074-43e5-964a-5ac79260ada4"
      },
      "execution_count": 7,
      "outputs": [
        {
          "output_type": "execute_result",
          "data": {
            "text/plain": [
              "age                        0\n",
              "gender                     0\n",
              "height_cm                  0\n",
              "weight_kg                  0\n",
              "body fat_%                 0\n",
              "diastolic                  0\n",
              "systolic                   0\n",
              "gripForce                  0\n",
              "sit and bend forward_cm    0\n",
              "sit-ups counts             0\n",
              "broad jump_cm              0\n",
              "class                      0\n",
              "dtype: int64"
            ]
          },
          "metadata": {},
          "execution_count": 7
        }
      ]
    },
    {
      "cell_type": "code",
      "source": [
        "df.info()   # gender ustunimiz ma'lumot turi object ekan"
      ],
      "metadata": {
        "colab": {
          "base_uri": "https://localhost:8080/"
        },
        "id": "SP8JqcuRd4jm",
        "outputId": "0a2ae5ab-4895-41a2-903f-f61c86c2dafa"
      },
      "execution_count": 8,
      "outputs": [
        {
          "output_type": "stream",
          "name": "stdout",
          "text": [
            "<class 'pandas.core.frame.DataFrame'>\n",
            "RangeIndex: 7015 entries, 0 to 7014\n",
            "Data columns (total 12 columns):\n",
            " #   Column                   Non-Null Count  Dtype  \n",
            "---  ------                   --------------  -----  \n",
            " 0   age                      7015 non-null   float64\n",
            " 1   gender                   7015 non-null   object \n",
            " 2   height_cm                7015 non-null   float64\n",
            " 3   weight_kg                7015 non-null   float64\n",
            " 4   body fat_%               7015 non-null   float64\n",
            " 5   diastolic                7015 non-null   float64\n",
            " 6   systolic                 7015 non-null   float64\n",
            " 7   gripForce                7015 non-null   float64\n",
            " 8   sit and bend forward_cm  7015 non-null   float64\n",
            " 9   sit-ups counts           7015 non-null   float64\n",
            " 10  broad jump_cm            7015 non-null   float64\n",
            " 11  class                    7015 non-null   object \n",
            "dtypes: float64(10), object(2)\n",
            "memory usage: 657.8+ KB\n"
          ]
        }
      ]
    },
    {
      "cell_type": "code",
      "source": [
        "df.describe()"
      ],
      "metadata": {
        "colab": {
          "base_uri": "https://localhost:8080/",
          "height": 399
        },
        "id": "cRlC2JTGd7La",
        "outputId": "a066031e-9e13-4f48-f069-9106ffc7ee20"
      },
      "execution_count": 9,
      "outputs": [
        {
          "output_type": "execute_result",
          "data": {
            "text/plain": [
              "               age    height_cm    weight_kg   body fat_%    diastolic  \\\n",
              "count  7015.000000  7015.000000  7015.000000  7015.000000  7015.000000   \n",
              "mean     36.801283   168.751732    67.046887    22.642606    78.648952   \n",
              "std      13.649180     8.256259    11.242355     6.796773    10.675237   \n",
              "min      21.000000   125.000000    34.400000     3.500000     6.000000   \n",
              "25%      25.000000   162.900000    58.500000    17.800000    71.000000   \n",
              "50%      32.000000   169.400000    67.400000    22.200000    79.000000   \n",
              "75%      48.000000   174.700000    74.700000    27.100000    86.000000   \n",
              "max      64.000000   193.800000   125.700000    54.900000   156.200000   \n",
              "\n",
              "          systolic    gripForce  sit and bend forward_cm  sit-ups counts  \\\n",
              "count  7015.000000  7015.000000              7015.000000     7015.000000   \n",
              "mean    130.364490    37.289624                15.790925       40.614597   \n",
              "std      14.538937    10.443406                 6.973073       13.075697   \n",
              "min      43.900000     0.000000               -20.000000        0.000000   \n",
              "25%     120.000000    27.800000                11.800000       32.000000   \n",
              "50%     130.000000    38.700000                16.000000       42.000000   \n",
              "75%     141.000000    45.200000                20.000000       50.000000   \n",
              "max     193.000000    69.900000               213.000000       78.000000   \n",
              "\n",
              "       broad jump_cm  \n",
              "count    7015.000000  \n",
              "mean      191.824391  \n",
              "std        38.528746  \n",
              "min         0.000000  \n",
              "25%       163.000000  \n",
              "50%       195.000000  \n",
              "75%       222.000000  \n",
              "max       295.000000  "
            ],
            "text/html": [
              "\n",
              "  <div id=\"df-bed7d49c-f57d-4a34-b50f-c8cbc0cd5bfa\">\n",
              "    <div class=\"colab-df-container\">\n",
              "      <div>\n",
              "<style scoped>\n",
              "    .dataframe tbody tr th:only-of-type {\n",
              "        vertical-align: middle;\n",
              "    }\n",
              "\n",
              "    .dataframe tbody tr th {\n",
              "        vertical-align: top;\n",
              "    }\n",
              "\n",
              "    .dataframe thead th {\n",
              "        text-align: right;\n",
              "    }\n",
              "</style>\n",
              "<table border=\"1\" class=\"dataframe\">\n",
              "  <thead>\n",
              "    <tr style=\"text-align: right;\">\n",
              "      <th></th>\n",
              "      <th>age</th>\n",
              "      <th>height_cm</th>\n",
              "      <th>weight_kg</th>\n",
              "      <th>body fat_%</th>\n",
              "      <th>diastolic</th>\n",
              "      <th>systolic</th>\n",
              "      <th>gripForce</th>\n",
              "      <th>sit and bend forward_cm</th>\n",
              "      <th>sit-ups counts</th>\n",
              "      <th>broad jump_cm</th>\n",
              "    </tr>\n",
              "  </thead>\n",
              "  <tbody>\n",
              "    <tr>\n",
              "      <th>count</th>\n",
              "      <td>7015.000000</td>\n",
              "      <td>7015.000000</td>\n",
              "      <td>7015.000000</td>\n",
              "      <td>7015.000000</td>\n",
              "      <td>7015.000000</td>\n",
              "      <td>7015.000000</td>\n",
              "      <td>7015.000000</td>\n",
              "      <td>7015.000000</td>\n",
              "      <td>7015.000000</td>\n",
              "      <td>7015.000000</td>\n",
              "    </tr>\n",
              "    <tr>\n",
              "      <th>mean</th>\n",
              "      <td>36.801283</td>\n",
              "      <td>168.751732</td>\n",
              "      <td>67.046887</td>\n",
              "      <td>22.642606</td>\n",
              "      <td>78.648952</td>\n",
              "      <td>130.364490</td>\n",
              "      <td>37.289624</td>\n",
              "      <td>15.790925</td>\n",
              "      <td>40.614597</td>\n",
              "      <td>191.824391</td>\n",
              "    </tr>\n",
              "    <tr>\n",
              "      <th>std</th>\n",
              "      <td>13.649180</td>\n",
              "      <td>8.256259</td>\n",
              "      <td>11.242355</td>\n",
              "      <td>6.796773</td>\n",
              "      <td>10.675237</td>\n",
              "      <td>14.538937</td>\n",
              "      <td>10.443406</td>\n",
              "      <td>6.973073</td>\n",
              "      <td>13.075697</td>\n",
              "      <td>38.528746</td>\n",
              "    </tr>\n",
              "    <tr>\n",
              "      <th>min</th>\n",
              "      <td>21.000000</td>\n",
              "      <td>125.000000</td>\n",
              "      <td>34.400000</td>\n",
              "      <td>3.500000</td>\n",
              "      <td>6.000000</td>\n",
              "      <td>43.900000</td>\n",
              "      <td>0.000000</td>\n",
              "      <td>-20.000000</td>\n",
              "      <td>0.000000</td>\n",
              "      <td>0.000000</td>\n",
              "    </tr>\n",
              "    <tr>\n",
              "      <th>25%</th>\n",
              "      <td>25.000000</td>\n",
              "      <td>162.900000</td>\n",
              "      <td>58.500000</td>\n",
              "      <td>17.800000</td>\n",
              "      <td>71.000000</td>\n",
              "      <td>120.000000</td>\n",
              "      <td>27.800000</td>\n",
              "      <td>11.800000</td>\n",
              "      <td>32.000000</td>\n",
              "      <td>163.000000</td>\n",
              "    </tr>\n",
              "    <tr>\n",
              "      <th>50%</th>\n",
              "      <td>32.000000</td>\n",
              "      <td>169.400000</td>\n",
              "      <td>67.400000</td>\n",
              "      <td>22.200000</td>\n",
              "      <td>79.000000</td>\n",
              "      <td>130.000000</td>\n",
              "      <td>38.700000</td>\n",
              "      <td>16.000000</td>\n",
              "      <td>42.000000</td>\n",
              "      <td>195.000000</td>\n",
              "    </tr>\n",
              "    <tr>\n",
              "      <th>75%</th>\n",
              "      <td>48.000000</td>\n",
              "      <td>174.700000</td>\n",
              "      <td>74.700000</td>\n",
              "      <td>27.100000</td>\n",
              "      <td>86.000000</td>\n",
              "      <td>141.000000</td>\n",
              "      <td>45.200000</td>\n",
              "      <td>20.000000</td>\n",
              "      <td>50.000000</td>\n",
              "      <td>222.000000</td>\n",
              "    </tr>\n",
              "    <tr>\n",
              "      <th>max</th>\n",
              "      <td>64.000000</td>\n",
              "      <td>193.800000</td>\n",
              "      <td>125.700000</td>\n",
              "      <td>54.900000</td>\n",
              "      <td>156.200000</td>\n",
              "      <td>193.000000</td>\n",
              "      <td>69.900000</td>\n",
              "      <td>213.000000</td>\n",
              "      <td>78.000000</td>\n",
              "      <td>295.000000</td>\n",
              "    </tr>\n",
              "  </tbody>\n",
              "</table>\n",
              "</div>\n",
              "      <button class=\"colab-df-convert\" onclick=\"convertToInteractive('df-bed7d49c-f57d-4a34-b50f-c8cbc0cd5bfa')\"\n",
              "              title=\"Convert this dataframe to an interactive table.\"\n",
              "              style=\"display:none;\">\n",
              "        \n",
              "  <svg xmlns=\"http://www.w3.org/2000/svg\" height=\"24px\"viewBox=\"0 0 24 24\"\n",
              "       width=\"24px\">\n",
              "    <path d=\"M0 0h24v24H0V0z\" fill=\"none\"/>\n",
              "    <path d=\"M18.56 5.44l.94 2.06.94-2.06 2.06-.94-2.06-.94-.94-2.06-.94 2.06-2.06.94zm-11 1L8.5 8.5l.94-2.06 2.06-.94-2.06-.94L8.5 2.5l-.94 2.06-2.06.94zm10 10l.94 2.06.94-2.06 2.06-.94-2.06-.94-.94-2.06-.94 2.06-2.06.94z\"/><path d=\"M17.41 7.96l-1.37-1.37c-.4-.4-.92-.59-1.43-.59-.52 0-1.04.2-1.43.59L10.3 9.45l-7.72 7.72c-.78.78-.78 2.05 0 2.83L4 21.41c.39.39.9.59 1.41.59.51 0 1.02-.2 1.41-.59l7.78-7.78 2.81-2.81c.8-.78.8-2.07 0-2.86zM5.41 20L4 18.59l7.72-7.72 1.47 1.35L5.41 20z\"/>\n",
              "  </svg>\n",
              "      </button>\n",
              "      \n",
              "  <style>\n",
              "    .colab-df-container {\n",
              "      display:flex;\n",
              "      flex-wrap:wrap;\n",
              "      gap: 12px;\n",
              "    }\n",
              "\n",
              "    .colab-df-convert {\n",
              "      background-color: #E8F0FE;\n",
              "      border: none;\n",
              "      border-radius: 50%;\n",
              "      cursor: pointer;\n",
              "      display: none;\n",
              "      fill: #1967D2;\n",
              "      height: 32px;\n",
              "      padding: 0 0 0 0;\n",
              "      width: 32px;\n",
              "    }\n",
              "\n",
              "    .colab-df-convert:hover {\n",
              "      background-color: #E2EBFA;\n",
              "      box-shadow: 0px 1px 2px rgba(60, 64, 67, 0.3), 0px 1px 3px 1px rgba(60, 64, 67, 0.15);\n",
              "      fill: #174EA6;\n",
              "    }\n",
              "\n",
              "    [theme=dark] .colab-df-convert {\n",
              "      background-color: #3B4455;\n",
              "      fill: #D2E3FC;\n",
              "    }\n",
              "\n",
              "    [theme=dark] .colab-df-convert:hover {\n",
              "      background-color: #434B5C;\n",
              "      box-shadow: 0px 1px 3px 1px rgba(0, 0, 0, 0.15);\n",
              "      filter: drop-shadow(0px 1px 2px rgba(0, 0, 0, 0.3));\n",
              "      fill: #FFFFFF;\n",
              "    }\n",
              "  </style>\n",
              "\n",
              "      <script>\n",
              "        const buttonEl =\n",
              "          document.querySelector('#df-bed7d49c-f57d-4a34-b50f-c8cbc0cd5bfa button.colab-df-convert');\n",
              "        buttonEl.style.display =\n",
              "          google.colab.kernel.accessAllowed ? 'block' : 'none';\n",
              "\n",
              "        async function convertToInteractive(key) {\n",
              "          const element = document.querySelector('#df-bed7d49c-f57d-4a34-b50f-c8cbc0cd5bfa');\n",
              "          const dataTable =\n",
              "            await google.colab.kernel.invokeFunction('convertToInteractive',\n",
              "                                                     [key], {});\n",
              "          if (!dataTable) return;\n",
              "\n",
              "          const docLinkHtml = 'Like what you see? Visit the ' +\n",
              "            '<a target=\"_blank\" href=https://colab.research.google.com/notebooks/data_table.ipynb>data table notebook</a>'\n",
              "            + ' to learn more about interactive tables.';\n",
              "          element.innerHTML = '';\n",
              "          dataTable['output_type'] = 'display_data';\n",
              "          await google.colab.output.renderOutput(dataTable, element);\n",
              "          const docLink = document.createElement('div');\n",
              "          docLink.innerHTML = docLinkHtml;\n",
              "          element.appendChild(docLink);\n",
              "        }\n",
              "      </script>\n",
              "    </div>\n",
              "  </div>\n",
              "  "
            ]
          },
          "metadata": {},
          "execution_count": 9
        }
      ]
    },
    {
      "cell_type": "code",
      "source": [
        "df[\"class\"].value_counts()"
      ],
      "metadata": {
        "colab": {
          "base_uri": "https://localhost:8080/"
        },
        "id": "o-DTqg60e-ZN",
        "outputId": "50316b5a-9b78-44ab-cd53-d4326b27e4e3"
      },
      "execution_count": 10,
      "outputs": [
        {
          "output_type": "execute_result",
          "data": {
            "text/plain": [
              "B    3222\n",
              "C    2565\n",
              "A     617\n",
              "D     611\n",
              "Name: class, dtype: int64"
            ]
          },
          "metadata": {},
          "execution_count": 10
        }
      ]
    },
    {
      "cell_type": "code",
      "source": [
        "plt.figure(figsize=(10,5))\n",
        "sns.kdeplot(data=df, x='age', hue='class',shade=True)\n",
        "plt.xticks(rotation=90)\n",
        "plt.show()"
      ],
      "metadata": {
        "colab": {
          "base_uri": "https://localhost:8080/",
          "height": 336
        },
        "id": "cuVML3lagWpk",
        "outputId": "bb98f669-a9a3-416f-d8df-2238593fae8b"
      },
      "execution_count": 12,
      "outputs": [
        {
          "output_type": "display_data",
          "data": {
            "text/plain": [
              "<Figure size 720x360 with 1 Axes>"
            ],
            "image/png": "[encoded data removed]"
          },
          "metadata": {
            "needs_background": "light"
          }
        }
      ]
    },
    {
      "cell_type": "markdown",
      "source": [
        "Bundan ko'rishmiz mumkin asosiy ma'lumot B va C klasslarda 20~30 yosh orasiga og'ishini ko'rishimiz mumkin."
      ],
      "metadata": {
        "id": "Ca_-ZLMFu_QV"
      }
    },
    {
      "cell_type": "code",
      "source": [
        "sns.catplot(data=df, kind=\"bar\", x=\"class\", y=\"age\", hue=\"gender\")\n",
        "plt.show()"
      ],
      "metadata": {
        "colab": {
          "base_uri": "https://localhost:8080/",
          "height": 369
        },
        "id": "GWhQijhdtcmG",
        "outputId": "eedee9ee-d3a1-45a9-dc09-ba88946940b6"
      },
      "execution_count": 13,
      "outputs": [
        {
          "output_type": "display_data",
          "data": {
            "text/plain": [
              "<Figure size 404.625x360 with 1 Axes>"
            ],
            "image/png": "[encoded data removed]"
          },
          "metadata": {
            "needs_background": "light"
          }
        }
      ]
    },
    {
      "cell_type": "markdown",
      "source": [
        "Bu yerda klasslarni jinsga oid yosh kesimida taqsimlanishini ko'rishimiz mumkin"
      ],
      "metadata": {
        "id": "4RrX7slIwxZH"
      }
    },
    {
      "cell_type": "code",
      "source": [
        "df[\"class\"] = df[\"class\"].replace({\"A\":1,\"B\":2,\"C\":3,\"D\":4}) #klasslarni raqamlarga replace qildim,chunki korrelyatiya sonli ustunlar bilan ishlaydi\n",
        "df[\"gender\"] = df[\"gender\"].replace({\"F\":1,\"M\":0}) # Female -> 1,Male -> 0 qilib o'zgartirdim"
      ],
      "metadata": {
        "id": "OUlIja3AkUw_"
      },
      "execution_count": 73,
      "outputs": []
    },
    {
      "cell_type": "code",
      "source": [
        "df.hist(bins=50, figsize=(15,12))\n",
        "plt.show()  "
      ],
      "metadata": {
        "colab": {
          "base_uri": "https://localhost:8080/",
          "height": 518
        },
        "id": "jMwN9KOxm3-V",
        "outputId": "56c759b3-8668-458c-94f9-7320379a23e4"
      },
      "execution_count": 85,
      "outputs": [
        {
          "output_type": "display_data",
          "data": {
            "text/plain": [
              "<Figure size 1080x864 with 12 Axes>"
            ],
            "image/png": "[encoded data removed]"
          },
          "metadata": {
            "needs_background": "light"
          }
        }
      ]
    },
    {
      "cell_type": "markdown",
      "source": [
        "Ushbu gistogramma orqali biz ma'lumotlarni normal distrubitsiya qonuniyatiga tushishini ko'rishimiz mumkin,\n",
        "bilamizki data qancha normal distrubitsiyaga asoslansa aniqligi shuncha yaxshi bo'ladi"
      ],
      "metadata": {
        "id": "5PaOovXQtHiS"
      }
    },
    {
      "cell_type": "code",
      "source": [
        "df.corrwith(df[\"class\"]).abs().sort_values(ascending=False) "
      ],
      "metadata": {
        "colab": {
          "base_uri": "https://localhost:8080/"
        },
        "id": "MhnJiZZOkW3i",
        "outputId": "39282baa-461e-4531-980c-d42a7f3b0882"
      },
      "execution_count": 16,
      "outputs": [
        {
          "output_type": "execute_result",
          "data": {
            "text/plain": [
              "class                      1.000000\n",
              "sit and bend forward_cm    0.459989\n",
              "sit-ups counts             0.317935\n",
              "body fat_%                 0.216034\n",
              "broad jump_cm              0.180268\n",
              "weight_kg                  0.122481\n",
              "gripForce                  0.100442\n",
              "gender                     0.049443\n",
              "diastolic                  0.037550\n",
              "height_cm                  0.031961\n",
              "age                        0.024815\n",
              "systolic                   0.019069\n",
              "dtype: float64"
            ]
          },
          "metadata": {},
          "execution_count": 16
        }
      ]
    },
    {
      "cell_type": "markdown",
      "source": [
        "Demak class ustunimiz bilan boshqa ustunlar o'rtasidagi korrelyatsiya hammasida ham yaxshi emas ekan.\n",
        "Quyida corr baland ustunlarni korishimiz mumkin\n",
        "\n",
        "*  sit and bend \n",
        "*  forward_cm,sit-ups counts\n",
        "*  body fat_%) \n",
        "korrelatsiya "
      ],
      "metadata": {
        "id": "RNWLFLi4xleD"
      }
    },
    {
      "cell_type": "code",
      "source": [
        "corr_matrix = df.corr().abs()  #\n",
        "corr_matrix.style.background_gradient(cmap='coolwarm')"
      ],
      "metadata": {
        "colab": {
          "base_uri": "https://localhost:8080/",
          "height": 550
        },
        "id": "perHuNs1x416",
        "outputId": "15f82503-ef7b-4299-b6b5-d9a883a3e894"
      },
      "execution_count": 84,
      "outputs": [
        {
          "output_type": "execute_result",
          "data": {
            "text/plain": [
              "<pandas.io.formats.style.Styler at 0x7f491087db50>"
            ],
            "text/html": [
              "<style type=\"text/css\">\n",
              "#T_9acc5_row0_col0, #T_9acc5_row1_col1, #T_9acc5_row2_col2, #T_9acc5_row3_col3, #T_9acc5_row4_col4, #T_9acc5_row5_col5, #T_9acc5_row6_col6, #T_9acc5_row7_col7, #T_9acc5_row8_col8, #T_9acc5_row9_col9, #T_9acc5_row10_col10, #T_9acc5_row11_col11 {\n",
              "  background-color: #b40426;\n",
              "  color: #f1f1f1;\n",
              "}\n",
              "#T_9acc5_row0_col1 {\n",
              "  background-color: #3d50c3;\n",
              "  color: #f1f1f1;\n",
              "}\n",
              "#T_9acc5_row0_col2 {\n",
              "  background-color: #92b4fe;\n",
              "  color: #000000;\n",
              "}\n",
              "#T_9acc5_row0_col3, #T_9acc5_row5_col4, #T_9acc5_row5_col9, #T_9acc5_row6_col4, #T_9acc5_row6_col11, #T_9acc5_row8_col10, #T_9acc5_row9_col5, #T_9acc5_row9_col8, #T_9acc5_row11_col0, #T_9acc5_row11_col1, #T_9acc5_row11_col2, #T_9acc5_row11_col6, #T_9acc5_row11_col7 {\n",
              "  background-color: #3b4cc0;\n",
              "  color: #f1f1f1;\n",
              "}\n",
              "#T_9acc5_row0_col4 {\n",
              "  background-color: #82a6fb;\n",
              "  color: #f1f1f1;\n",
              "}\n",
              "#T_9acc5_row0_col5 {\n",
              "  background-color: #6687ed;\n",
              "  color: #f1f1f1;\n",
              "}\n",
              "#T_9acc5_row0_col6, #T_9acc5_row2_col8 {\n",
              "  background-color: #7a9df8;\n",
              "  color: #f1f1f1;\n",
              "}\n",
              "#T_9acc5_row0_col7, #T_9acc5_row4_col3 {\n",
              "  background-color: #5572df;\n",
              "  color: #f1f1f1;\n",
              "}\n",
              "#T_9acc5_row0_col8 {\n",
              "  background-color: #455cce;\n",
              "  color: #f1f1f1;\n",
              "}\n",
              "#T_9acc5_row0_col9, #T_9acc5_row4_col9, #T_9acc5_row9_col0 {\n",
              "  background-color: #edd2c3;\n",
              "  color: #000000;\n",
              "}\n",
              "#T_9acc5_row0_col10 {\n",
              "  background-color: #c0d4f5;\n",
              "  color: #000000;\n",
              "}\n",
              "#T_9acc5_row0_col11 {\n",
              "  background-color: #3c4ec2;\n",
              "  color: #f1f1f1;\n",
              "}\n",
              "#T_9acc5_row1_col0, #T_9acc5_row10_col8 {\n",
              "  background-color: #445acc;\n",
              "  color: #f1f1f1;\n",
              "}\n",
              "#T_9acc5_row1_col2, #T_9acc5_row10_col1 {\n",
              "  background-color: #f7a889;\n",
              "  color: #000000;\n",
              "}\n",
              "#T_9acc5_row1_col3, #T_9acc5_row6_col5 {\n",
              "  background-color: #f6bda2;\n",
              "  color: #000000;\n",
              "}\n",
              "#T_9acc5_row1_col4 {\n",
              "  background-color: #efcebd;\n",
              "  color: #000000;\n",
              "}\n",
              "#T_9acc5_row1_col5, #T_9acc5_row4_col11 {\n",
              "  background-color: #7b9ff9;\n",
              "  color: #f1f1f1;\n",
              "}\n",
              "#T_9acc5_row1_col6 {\n",
              "  background-color: #a1c0ff;\n",
              "  color: #000000;\n",
              "}\n",
              "#T_9acc5_row1_col7 {\n",
              "  background-color: #ef886b;\n",
              "  color: #f1f1f1;\n",
              "}\n",
              "#T_9acc5_row1_col8 {\n",
              "  background-color: #a9c6fd;\n",
              "  color: #000000;\n",
              "}\n",
              "#T_9acc5_row1_col9, #T_9acc5_row3_col10 {\n",
              "  background-color: #e1dad6;\n",
              "  color: #000000;\n",
              "}\n",
              "#T_9acc5_row1_col10, #T_9acc5_row2_col1, #T_9acc5_row2_col7, #T_9acc5_row10_col7 {\n",
              "  background-color: #f7a98b;\n",
              "  color: #000000;\n",
              "}\n",
              "#T_9acc5_row1_col11, #T_9acc5_row4_col6, #T_9acc5_row5_col10 {\n",
              "  background-color: #4358cb;\n",
              "  color: #f1f1f1;\n",
              "}\n",
              "#T_9acc5_row2_col0, #T_9acc5_row7_col6 {\n",
              "  background-color: #94b6ff;\n",
              "  color: #000000;\n",
              "}\n",
              "#T_9acc5_row2_col3, #T_9acc5_row7_col2, #T_9acc5_row10_col9 {\n",
              "  background-color: #f5a081;\n",
              "  color: #000000;\n",
              "}\n",
              "#T_9acc5_row2_col4, #T_9acc5_row7_col4 {\n",
              "  background-color: #e4d9d2;\n",
              "  color: #000000;\n",
              "}\n",
              "#T_9acc5_row2_col5 {\n",
              "  background-color: #5d7ce6;\n",
              "  color: #f1f1f1;\n",
              "}\n",
              "#T_9acc5_row2_col6, #T_9acc5_row11_col4 {\n",
              "  background-color: #7597f6;\n",
              "  color: #f1f1f1;\n",
              "}\n",
              "#T_9acc5_row2_col9 {\n",
              "  background-color: #e3d9d3;\n",
              "  color: #000000;\n",
              "}\n",
              "#T_9acc5_row2_col10 {\n",
              "  background-color: #f7b99e;\n",
              "  color: #000000;\n",
              "}\n",
              "#T_9acc5_row2_col11, #T_9acc5_row8_col4, #T_9acc5_row11_col5 {\n",
              "  background-color: #3e51c5;\n",
              "  color: #f1f1f1;\n",
              "}\n",
              "#T_9acc5_row3_col0, #T_9acc5_row7_col11 {\n",
              "  background-color: #5470de;\n",
              "  color: #f1f1f1;\n",
              "}\n",
              "#T_9acc5_row3_col1 {\n",
              "  background-color: #f7b599;\n",
              "  color: #000000;\n",
              "}\n",
              "#T_9acc5_row3_col2 {\n",
              "  background-color: #f4987a;\n",
              "  color: #000000;\n",
              "}\n",
              "#T_9acc5_row3_col4 {\n",
              "  background-color: #6a8bef;\n",
              "  color: #f1f1f1;\n",
              "}\n",
              "#T_9acc5_row3_col5 {\n",
              "  background-color: #85a8fc;\n",
              "  color: #f1f1f1;\n",
              "}\n",
              "#T_9acc5_row3_col6 {\n",
              "  background-color: #a3c2fe;\n",
              "  color: #000000;\n",
              "}\n",
              "#T_9acc5_row3_col7 {\n",
              "  background-color: #f6a385;\n",
              "  color: #000000;\n",
              "}\n",
              "#T_9acc5_row3_col8 {\n",
              "  background-color: #84a7fc;\n",
              "  color: #f1f1f1;\n",
              "}\n",
              "#T_9acc5_row3_col9 {\n",
              "  background-color: #bcd2f7;\n",
              "  color: #000000;\n",
              "}\n",
              "#T_9acc5_row3_col11, #T_9acc5_row5_col2 {\n",
              "  background-color: #5a78e4;\n",
              "  color: #f1f1f1;\n",
              "}\n",
              "#T_9acc5_row4_col0 {\n",
              "  background-color: #88abfd;\n",
              "  color: #000000;\n",
              "}\n",
              "#T_9acc5_row4_col1 {\n",
              "  background-color: #efcfbf;\n",
              "  color: #000000;\n",
              "}\n",
              "#T_9acc5_row4_col2 {\n",
              "  background-color: #e5d8d1;\n",
              "  color: #000000;\n",
              "}\n",
              "#T_9acc5_row4_col5, #T_9acc5_row4_col8, #T_9acc5_row5_col11, #T_9acc5_row8_col9, #T_9acc5_row11_col3 {\n",
              "  background-color: #3f53c6;\n",
              "  color: #f1f1f1;\n",
              "}\n",
              "#T_9acc5_row4_col7, #T_9acc5_row10_col3 {\n",
              "  background-color: #dcdddd;\n",
              "  color: #000000;\n",
              "}\n",
              "#T_9acc5_row4_col10 {\n",
              "  background-color: #f6bfa6;\n",
              "  color: #000000;\n",
              "}\n",
              "#T_9acc5_row5_col0 {\n",
              "  background-color: #6485ec;\n",
              "  color: #f1f1f1;\n",
              "}\n",
              "#T_9acc5_row5_col1 {\n",
              "  background-color: #7396f5;\n",
              "  color: #f1f1f1;\n",
              "}\n",
              "#T_9acc5_row5_col3 {\n",
              "  background-color: #6b8df0;\n",
              "  color: #f1f1f1;\n",
              "}\n",
              "#T_9acc5_row5_col6, #T_9acc5_row10_col4 {\n",
              "  background-color: #f7bca1;\n",
              "  color: #000000;\n",
              "}\n",
              "#T_9acc5_row5_col7 {\n",
              "  background-color: #5e7de7;\n",
              "  color: #f1f1f1;\n",
              "}\n",
              "#T_9acc5_row5_col8 {\n",
              "  background-color: #4257c9;\n",
              "  color: #f1f1f1;\n",
              "}\n",
              "#T_9acc5_row6_col0 {\n",
              "  background-color: #799cf8;\n",
              "  color: #f1f1f1;\n",
              "}\n",
              "#T_9acc5_row6_col1 {\n",
              "  background-color: #9abbff;\n",
              "  color: #000000;\n",
              "}\n",
              "#T_9acc5_row6_col2 {\n",
              "  background-color: #7295f4;\n",
              "  color: #f1f1f1;\n",
              "}\n",
              "#T_9acc5_row6_col3 {\n",
              "  background-color: #8caffe;\n",
              "  color: #000000;\n",
              "}\n",
              "#T_9acc5_row6_col7, #T_9acc5_row8_col2 {\n",
              "  background-color: #7da0f9;\n",
              "  color: #f1f1f1;\n",
              "}\n",
              "#T_9acc5_row6_col8 {\n",
              "  background-color: #4b64d5;\n",
              "  color: #f1f1f1;\n",
              "}\n",
              "#T_9acc5_row6_col9 {\n",
              "  background-color: #485fd1;\n",
              "  color: #f1f1f1;\n",
              "}\n",
              "#T_9acc5_row6_col10 {\n",
              "  background-color: #5875e1;\n",
              "  color: #f1f1f1;\n",
              "}\n",
              "#T_9acc5_row7_col0, #T_9acc5_row7_col8 {\n",
              "  background-color: #6c8ff1;\n",
              "  color: #f1f1f1;\n",
              "}\n",
              "#T_9acc5_row7_col1 {\n",
              "  background-color: #ed8366;\n",
              "  color: #f1f1f1;\n",
              "}\n",
              "#T_9acc5_row7_col3, #T_9acc5_row9_col10 {\n",
              "  background-color: #f6a586;\n",
              "  color: #000000;\n",
              "}\n",
              "#T_9acc5_row7_col5 {\n",
              "  background-color: #7699f6;\n",
              "  color: #f1f1f1;\n",
              "}\n",
              "#T_9acc5_row7_col9 {\n",
              "  background-color: #edd1c2;\n",
              "  color: #000000;\n",
              "}\n",
              "#T_9acc5_row7_col10 {\n",
              "  background-color: #f7a688;\n",
              "  color: #000000;\n",
              "}\n",
              "#T_9acc5_row8_col0 {\n",
              "  background-color: #4a63d3;\n",
              "  color: #f1f1f1;\n",
              "}\n",
              "#T_9acc5_row8_col1 {\n",
              "  background-color: #a6c4fe;\n",
              "  color: #000000;\n",
              "}\n",
              "#T_9acc5_row8_col3, #T_9acc5_row10_col11 {\n",
              "  background-color: #6f92f3;\n",
              "  color: #f1f1f1;\n",
              "}\n",
              "#T_9acc5_row8_col5 {\n",
              "  background-color: #465ecf;\n",
              "  color: #f1f1f1;\n",
              "}\n",
              "#T_9acc5_row8_col6, #T_9acc5_row10_col5 {\n",
              "  background-color: #516ddb;\n",
              "  color: #f1f1f1;\n",
              "}\n",
              "#T_9acc5_row8_col7 {\n",
              "  background-color: #5977e3;\n",
              "  color: #f1f1f1;\n",
              "}\n",
              "#T_9acc5_row8_col11 {\n",
              "  background-color: #cfdaea;\n",
              "  color: #000000;\n",
              "}\n",
              "#T_9acc5_row9_col1 {\n",
              "  background-color: #dddcdc;\n",
              "  color: #000000;\n",
              "}\n",
              "#T_9acc5_row9_col2 {\n",
              "  background-color: #e2dad5;\n",
              "  color: #000000;\n",
              "}\n",
              "#T_9acc5_row9_col3 {\n",
              "  background-color: #aac7fd;\n",
              "  color: #000000;\n",
              "}\n",
              "#T_9acc5_row9_col4 {\n",
              "  background-color: #ebd3c6;\n",
              "  color: #000000;\n",
              "}\n",
              "#T_9acc5_row9_col6 {\n",
              "  background-color: #4961d2;\n",
              "  color: #f1f1f1;\n",
              "}\n",
              "#T_9acc5_row9_col7 {\n",
              "  background-color: #e6d7cf;\n",
              "  color: #000000;\n",
              "}\n",
              "#T_9acc5_row9_col11, #T_9acc5_row11_col9 {\n",
              "  background-color: #9fbfff;\n",
              "  color: #000000;\n",
              "}\n",
              "#T_9acc5_row10_col0 {\n",
              "  background-color: #c9d7f0;\n",
              "  color: #000000;\n",
              "}\n",
              "#T_9acc5_row10_col2 {\n",
              "  background-color: #f7b497;\n",
              "  color: #000000;\n",
              "}\n",
              "#T_9acc5_row10_col6 {\n",
              "  background-color: #6788ee;\n",
              "  color: #f1f1f1;\n",
              "}\n",
              "#T_9acc5_row11_col8 {\n",
              "  background-color: #cbd8ee;\n",
              "  color: #000000;\n",
              "}\n",
              "#T_9acc5_row11_col10 {\n",
              "  background-color: #5f7fe8;\n",
              "  color: #f1f1f1;\n",
              "}\n",
              "</style>\n",
              "<table id=\"T_9acc5_\" class=\"dataframe\">\n",
              "  <thead>\n",
              "    <tr>\n",
              "      <th class=\"blank level0\" >&nbsp;</th>\n",
              "      <th class=\"col_heading level0 col0\" >age</th>\n",
              "      <th class=\"col_heading level0 col1\" >gender</th>\n",
              "      <th class=\"col_heading level0 col2\" >height_cm</th>\n",
              "      <th class=\"col_heading level0 col3\" >weight_kg</th>\n",
              "      <th class=\"col_heading level0 col4\" >body fat_%</th>\n",
              "      <th class=\"col_heading level0 col5\" >diastolic</th>\n",
              "      <th class=\"col_heading level0 col6\" >systolic</th>\n",
              "      <th class=\"col_heading level0 col7\" >gripForce</th>\n",
              "      <th class=\"col_heading level0 col8\" >sit and bend forward_cm</th>\n",
              "      <th class=\"col_heading level0 col9\" >sit-ups counts</th>\n",
              "      <th class=\"col_heading level0 col10\" >broad jump_cm</th>\n",
              "      <th class=\"col_heading level0 col11\" >class</th>\n",
              "    </tr>\n",
              "  </thead>\n",
              "  <tbody>\n",
              "    <tr>\n",
              "      <th id=\"T_9acc5_level0_row0\" class=\"row_heading level0 row0\" >age</th>\n",
              "      <td id=\"T_9acc5_row0_col0\" class=\"data row0 col0\" >1.000000</td>\n",
              "      <td id=\"T_9acc5_row0_col1\" class=\"data row0 col1\" >0.058173</td>\n",
              "      <td id=\"T_9acc5_row0_col2\" class=\"data row0 col2\" >0.288286</td>\n",
              "      <td id=\"T_9acc5_row0_col3\" class=\"data row0 col3\" >0.107783</td>\n",
              "      <td id=\"T_9acc5_row0_col4\" class=\"data row0 col4\" >0.254779</td>\n",
              "      <td id=\"T_9acc5_row0_col5\" class=\"data row0 col5\" >0.157917</td>\n",
              "      <td id=\"T_9acc5_row0_col6\" class=\"data row0 col6\" >0.213870</td>\n",
              "      <td id=\"T_9acc5_row0_col7\" class=\"data row0 col7\" >0.177807</td>\n",
              "      <td id=\"T_9acc5_row0_col8\" class=\"data row0 col8\" >0.074414</td>\n",
              "      <td id=\"T_9acc5_row0_col9\" class=\"data row0 col9\" >0.579351</td>\n",
              "      <td id=\"T_9acc5_row0_col10\" class=\"data row0 col10\" >0.441600</td>\n",
              "      <td id=\"T_9acc5_row0_col11\" class=\"data row0 col11\" >0.024815</td>\n",
              "    </tr>\n",
              "    <tr>\n",
              "      <th id=\"T_9acc5_level0_row1\" class=\"row_heading level0 row1\" >gender</th>\n",
              "      <td id=\"T_9acc5_row1_col0\" class=\"data row1 col0\" >0.058173</td>\n",
              "      <td id=\"T_9acc5_row1_col1\" class=\"data row1 col1\" >1.000000</td>\n",
              "      <td id=\"T_9acc5_row1_col2\" class=\"data row1 col2\" >0.723391</td>\n",
              "      <td id=\"T_9acc5_row1_col3\" class=\"data row1 col3\" >0.689779</td>\n",
              "      <td id=\"T_9acc5_row1_col4\" class=\"data row1 col4\" >0.602024</td>\n",
              "      <td id=\"T_9acc5_row1_col5\" class=\"data row1 col5\" >0.219270</td>\n",
              "      <td id=\"T_9acc5_row1_col6\" class=\"data row1 col6\" >0.321124</td>\n",
              "      <td id=\"T_9acc5_row1_col7\" class=\"data row1 col7\" >0.811698</td>\n",
              "      <td id=\"T_9acc5_row1_col8\" class=\"data row1 col8\" >0.356106</td>\n",
              "      <td id=\"T_9acc5_row1_col9\" class=\"data row1 col9\" >0.527542</td>\n",
              "      <td id=\"T_9acc5_row1_col10\" class=\"data row1 col10\" >0.727814</td>\n",
              "      <td id=\"T_9acc5_row1_col11\" class=\"data row1 col11\" >0.049443</td>\n",
              "    </tr>\n",
              "    <tr>\n",
              "      <th id=\"T_9acc5_level0_row2\" class=\"row_heading level0 row2\" >height_cm</th>\n",
              "      <td id=\"T_9acc5_row2_col0\" class=\"data row2 col0\" >0.288286</td>\n",
              "      <td id=\"T_9acc5_row2_col1\" class=\"data row2 col1\" >0.723391</td>\n",
              "      <td id=\"T_9acc5_row2_col2\" class=\"data row2 col2\" >1.000000</td>\n",
              "      <td id=\"T_9acc5_row2_col3\" class=\"data row2 col3\" >0.761105</td>\n",
              "      <td id=\"T_9acc5_row2_col4\" class=\"data row2 col4\" >0.549119</td>\n",
              "      <td id=\"T_9acc5_row2_col5\" class=\"data row2 col5\" >0.131829</td>\n",
              "      <td id=\"T_9acc5_row2_col6\" class=\"data row2 col6\" >0.198731</td>\n",
              "      <td id=\"T_9acc5_row2_col7\" class=\"data row2 col7\" >0.739932</td>\n",
              "      <td id=\"T_9acc5_row2_col8\" class=\"data row2 col8\" >0.231173</td>\n",
              "      <td id=\"T_9acc5_row2_col9\" class=\"data row2 col9\" >0.537803</td>\n",
              "      <td id=\"T_9acc5_row2_col10\" class=\"data row2 col10\" >0.687134</td>\n",
              "      <td id=\"T_9acc5_row2_col11\" class=\"data row2 col11\" >0.031961</td>\n",
              "    </tr>\n",
              "    <tr>\n",
              "      <th id=\"T_9acc5_level0_row3\" class=\"row_heading level0 row3\" >weight_kg</th>\n",
              "      <td id=\"T_9acc5_row3_col0\" class=\"data row3 col0\" >0.107783</td>\n",
              "      <td id=\"T_9acc5_row3_col1\" class=\"data row3 col1\" >0.689779</td>\n",
              "      <td id=\"T_9acc5_row3_col2\" class=\"data row3 col2\" >0.761105</td>\n",
              "      <td id=\"T_9acc5_row3_col3\" class=\"data row3 col3\" >1.000000</td>\n",
              "      <td id=\"T_9acc5_row3_col4\" class=\"data row3 col4\" >0.187030</td>\n",
              "      <td id=\"T_9acc5_row3_col5\" class=\"data row3 col5\" >0.246153</td>\n",
              "      <td id=\"T_9acc5_row3_col6\" class=\"data row3 col6\" >0.329220</td>\n",
              "      <td id=\"T_9acc5_row3_col7\" class=\"data row3 col7\" >0.752092</td>\n",
              "      <td id=\"T_9acc5_row3_col8\" class=\"data row3 col8\" >0.256686</td>\n",
              "      <td id=\"T_9acc5_row3_col9\" class=\"data row3 col9\" >0.404938</td>\n",
              "      <td id=\"T_9acc5_row3_col10\" class=\"data row3 col10\" >0.551703</td>\n",
              "      <td id=\"T_9acc5_row3_col11\" class=\"data row3 col11\" >0.122481</td>\n",
              "    </tr>\n",
              "    <tr>\n",
              "      <th id=\"T_9acc5_level0_row4\" class=\"row_heading level0 row4\" >body fat_%</th>\n",
              "      <td id=\"T_9acc5_row4_col0\" class=\"data row4 col0\" >0.254779</td>\n",
              "      <td id=\"T_9acc5_row4_col1\" class=\"data row4 col1\" >0.602024</td>\n",
              "      <td id=\"T_9acc5_row4_col2\" class=\"data row4 col2\" >0.549119</td>\n",
              "      <td id=\"T_9acc5_row4_col3\" class=\"data row4 col3\" >0.187030</td>\n",
              "      <td id=\"T_9acc5_row4_col4\" class=\"data row4 col4\" >1.000000</td>\n",
              "      <td id=\"T_9acc5_row4_col5\" class=\"data row4 col5\" >0.042949</td>\n",
              "      <td id=\"T_9acc5_row4_col6\" class=\"data row4 col6\" >0.046007</td>\n",
              "      <td id=\"T_9acc5_row4_col7\" class=\"data row4 col7\" >0.547648</td>\n",
              "      <td id=\"T_9acc5_row4_col8\" class=\"data row4 col8\" >0.056892</td>\n",
              "      <td id=\"T_9acc5_row4_col9\" class=\"data row4 col9\" >0.579147</td>\n",
              "      <td id=\"T_9acc5_row4_col10\" class=\"data row4 col10\" >0.667964</td>\n",
              "      <td id=\"T_9acc5_row4_col11\" class=\"data row4 col11\" >0.216034</td>\n",
              "    </tr>\n",
              "    <tr>\n",
              "      <th id=\"T_9acc5_level0_row5\" class=\"row_heading level0 row5\" >diastolic</th>\n",
              "      <td id=\"T_9acc5_row5_col0\" class=\"data row5 col0\" >0.157917</td>\n",
              "      <td id=\"T_9acc5_row5_col1\" class=\"data row5 col1\" >0.219270</td>\n",
              "      <td id=\"T_9acc5_row5_col2\" class=\"data row5 col2\" >0.131829</td>\n",
              "      <td id=\"T_9acc5_row5_col3\" class=\"data row5 col3\" >0.246153</td>\n",
              "      <td id=\"T_9acc5_row5_col4\" class=\"data row5 col4\" >0.042949</td>\n",
              "      <td id=\"T_9acc5_row5_col5\" class=\"data row5 col5\" >1.000000</td>\n",
              "      <td id=\"T_9acc5_row5_col6\" class=\"data row5 col6\" >0.660354</td>\n",
              "      <td id=\"T_9acc5_row5_col7\" class=\"data row5 col7\" >0.203949</td>\n",
              "      <td id=\"T_9acc5_row5_col8\" class=\"data row5 col8\" >0.064516</td>\n",
              "      <td id=\"T_9acc5_row5_col9\" class=\"data row5 col9\" >0.023916</td>\n",
              "      <td id=\"T_9acc5_row5_col10\" class=\"data row5 col10\" >0.098789</td>\n",
              "      <td id=\"T_9acc5_row5_col11\" class=\"data row5 col11\" >0.037550</td>\n",
              "    </tr>\n",
              "    <tr>\n",
              "      <th id=\"T_9acc5_level0_row6\" class=\"row_heading level0 row6\" >systolic</th>\n",
              "      <td id=\"T_9acc5_row6_col0\" class=\"data row6 col0\" >0.213870</td>\n",
              "      <td id=\"T_9acc5_row6_col1\" class=\"data row6 col1\" >0.321124</td>\n",
              "      <td id=\"T_9acc5_row6_col2\" class=\"data row6 col2\" >0.198731</td>\n",
              "      <td id=\"T_9acc5_row6_col3\" class=\"data row6 col3\" >0.329220</td>\n",
              "      <td id=\"T_9acc5_row6_col4\" class=\"data row6 col4\" >0.046007</td>\n",
              "      <td id=\"T_9acc5_row6_col5\" class=\"data row6 col5\" >0.660354</td>\n",
              "      <td id=\"T_9acc5_row6_col6\" class=\"data row6 col6\" >1.000000</td>\n",
              "      <td id=\"T_9acc5_row6_col7\" class=\"data row6 col7\" >0.286073</td>\n",
              "      <td id=\"T_9acc5_row6_col8\" class=\"data row6 col8\" >0.093928</td>\n",
              "      <td id=\"T_9acc5_row6_col9\" class=\"data row6 col9\" >0.065862</td>\n",
              "      <td id=\"T_9acc5_row6_col10\" class=\"data row6 col10\" >0.159393</td>\n",
              "      <td id=\"T_9acc5_row6_col11\" class=\"data row6 col11\" >0.019069</td>\n",
              "    </tr>\n",
              "    <tr>\n",
              "      <th id=\"T_9acc5_level0_row7\" class=\"row_heading level0 row7\" >gripForce</th>\n",
              "      <td id=\"T_9acc5_row7_col0\" class=\"data row7 col0\" >0.177807</td>\n",
              "      <td id=\"T_9acc5_row7_col1\" class=\"data row7 col1\" >0.811698</td>\n",
              "      <td id=\"T_9acc5_row7_col2\" class=\"data row7 col2\" >0.739932</td>\n",
              "      <td id=\"T_9acc5_row7_col3\" class=\"data row7 col3\" >0.752092</td>\n",
              "      <td id=\"T_9acc5_row7_col4\" class=\"data row7 col4\" >0.547648</td>\n",
              "      <td id=\"T_9acc5_row7_col5\" class=\"data row7 col5\" >0.203949</td>\n",
              "      <td id=\"T_9acc5_row7_col6\" class=\"data row7 col6\" >0.286073</td>\n",
              "      <td id=\"T_9acc5_row7_col7\" class=\"data row7 col7\" >1.000000</td>\n",
              "      <td id=\"T_9acc5_row7_col8\" class=\"data row7 col8\" >0.191545</td>\n",
              "      <td id=\"T_9acc5_row7_col9\" class=\"data row7 col9\" >0.582035</td>\n",
              "      <td id=\"T_9acc5_row7_col10\" class=\"data row7 col10\" >0.738526</td>\n",
              "      <td id=\"T_9acc5_row7_col11\" class=\"data row7 col11\" >0.100442</td>\n",
              "    </tr>\n",
              "    <tr>\n",
              "      <th id=\"T_9acc5_level0_row8\" class=\"row_heading level0 row8\" >sit and bend forward_cm</th>\n",
              "      <td id=\"T_9acc5_row8_col0\" class=\"data row8 col0\" >0.074414</td>\n",
              "      <td id=\"T_9acc5_row8_col1\" class=\"data row8 col1\" >0.356106</td>\n",
              "      <td id=\"T_9acc5_row8_col2\" class=\"data row8 col2\" >0.231173</td>\n",
              "      <td id=\"T_9acc5_row8_col3\" class=\"data row8 col3\" >0.256686</td>\n",
              "      <td id=\"T_9acc5_row8_col4\" class=\"data row8 col4\" >0.056892</td>\n",
              "      <td id=\"T_9acc5_row8_col5\" class=\"data row8 col5\" >0.064516</td>\n",
              "      <td id=\"T_9acc5_row8_col6\" class=\"data row8 col6\" >0.093928</td>\n",
              "      <td id=\"T_9acc5_row8_col7\" class=\"data row8 col7\" >0.191545</td>\n",
              "      <td id=\"T_9acc5_row8_col8\" class=\"data row8 col8\" >1.000000</td>\n",
              "      <td id=\"T_9acc5_row8_col9\" class=\"data row8 col9\" >0.040480</td>\n",
              "      <td id=\"T_9acc5_row8_col10\" class=\"data row8 col10\" >0.070689</td>\n",
              "      <td id=\"T_9acc5_row8_col11\" class=\"data row8 col11\" >0.459989</td>\n",
              "    </tr>\n",
              "    <tr>\n",
              "      <th id=\"T_9acc5_level0_row9\" class=\"row_heading level0 row9\" >sit-ups counts</th>\n",
              "      <td id=\"T_9acc5_row9_col0\" class=\"data row9 col0\" >0.579351</td>\n",
              "      <td id=\"T_9acc5_row9_col1\" class=\"data row9 col1\" >0.527542</td>\n",
              "      <td id=\"T_9acc5_row9_col2\" class=\"data row9 col2\" >0.537803</td>\n",
              "      <td id=\"T_9acc5_row9_col3\" class=\"data row9 col3\" >0.404938</td>\n",
              "      <td id=\"T_9acc5_row9_col4\" class=\"data row9 col4\" >0.579147</td>\n",
              "      <td id=\"T_9acc5_row9_col5\" class=\"data row9 col5\" >0.023916</td>\n",
              "      <td id=\"T_9acc5_row9_col6\" class=\"data row9 col6\" >0.065862</td>\n",
              "      <td id=\"T_9acc5_row9_col7\" class=\"data row9 col7\" >0.582035</td>\n",
              "      <td id=\"T_9acc5_row9_col8\" class=\"data row9 col8\" >0.040480</td>\n",
              "      <td id=\"T_9acc5_row9_col9\" class=\"data row9 col9\" >1.000000</td>\n",
              "      <td id=\"T_9acc5_row9_col10\" class=\"data row9 col10\" >0.740434</td>\n",
              "      <td id=\"T_9acc5_row9_col11\" class=\"data row9 col11\" >0.317935</td>\n",
              "    </tr>\n",
              "    <tr>\n",
              "      <th id=\"T_9acc5_level0_row10\" class=\"row_heading level0 row10\" >broad jump_cm</th>\n",
              "      <td id=\"T_9acc5_row10_col0\" class=\"data row10 col0\" >0.441600</td>\n",
              "      <td id=\"T_9acc5_row10_col1\" class=\"data row10 col1\" >0.727814</td>\n",
              "      <td id=\"T_9acc5_row10_col2\" class=\"data row10 col2\" >0.687134</td>\n",
              "      <td id=\"T_9acc5_row10_col3\" class=\"data row10 col3\" >0.551703</td>\n",
              "      <td id=\"T_9acc5_row10_col4\" class=\"data row10 col4\" >0.667964</td>\n",
              "      <td id=\"T_9acc5_row10_col5\" class=\"data row10 col5\" >0.098789</td>\n",
              "      <td id=\"T_9acc5_row10_col6\" class=\"data row10 col6\" >0.159393</td>\n",
              "      <td id=\"T_9acc5_row10_col7\" class=\"data row10 col7\" >0.738526</td>\n",
              "      <td id=\"T_9acc5_row10_col8\" class=\"data row10 col8\" >0.070689</td>\n",
              "      <td id=\"T_9acc5_row10_col9\" class=\"data row10 col9\" >0.740434</td>\n",
              "      <td id=\"T_9acc5_row10_col10\" class=\"data row10 col10\" >1.000000</td>\n",
              "      <td id=\"T_9acc5_row10_col11\" class=\"data row10 col11\" >0.180268</td>\n",
              "    </tr>\n",
              "    <tr>\n",
              "      <th id=\"T_9acc5_level0_row11\" class=\"row_heading level0 row11\" >class</th>\n",
              "      <td id=\"T_9acc5_row11_col0\" class=\"data row11 col0\" >0.024815</td>\n",
              "      <td id=\"T_9acc5_row11_col1\" class=\"data row11 col1\" >0.049443</td>\n",
              "      <td id=\"T_9acc5_row11_col2\" class=\"data row11 col2\" >0.031961</td>\n",
              "      <td id=\"T_9acc5_row11_col3\" class=\"data row11 col3\" >0.122481</td>\n",
              "      <td id=\"T_9acc5_row11_col4\" class=\"data row11 col4\" >0.216034</td>\n",
              "      <td id=\"T_9acc5_row11_col5\" class=\"data row11 col5\" >0.037550</td>\n",
              "      <td id=\"T_9acc5_row11_col6\" class=\"data row11 col6\" >0.019069</td>\n",
              "      <td id=\"T_9acc5_row11_col7\" class=\"data row11 col7\" >0.100442</td>\n",
              "      <td id=\"T_9acc5_row11_col8\" class=\"data row11 col8\" >0.459989</td>\n",
              "      <td id=\"T_9acc5_row11_col9\" class=\"data row11 col9\" >0.317935</td>\n",
              "      <td id=\"T_9acc5_row11_col10\" class=\"data row11 col10\" >0.180268</td>\n",
              "      <td id=\"T_9acc5_row11_col11\" class=\"data row11 col11\" >1.000000</td>\n",
              "    </tr>\n",
              "  </tbody>\n",
              "</table>\n"
            ]
          },
          "metadata": {},
          "execution_count": 84
        }
      ]
    },
    {
      "cell_type": "markdown",
      "source": [
        "Ma'lumotlarni train va test qilish uchun ikkiga bo'lib olishimiz kerak.\n",
        "\n",
        "1.  Klasslarga oid ma'lumotlar o'rtasida farq kattani tashkil \n",
        "etgani bois,biz train_test_split orqali ikkiga bo'lganimizda A va D klasslarga oid ma'lumotlar train qismida emas,balki test qismida qolib ketib model aniqligini yo'qotishimiz mumkin.\n",
        "2.  Ma'lumotlar o'rtasidagi balasni saqlash uchun Staritifiedsplitdan foydalandim\n",
        "\n",
        "\n",
        "\n",
        "\n",
        "\n"
      ],
      "metadata": {
        "id": "k9uRvVEk0Ro4"
      }
    },
    {
      "cell_type": "code",
      "source": [
        "df['class'].hist(bins=10, figsize=(9,6)) \n",
        "plt.show()"
      ],
      "metadata": {
        "colab": {
          "base_uri": "https://localhost:8080/",
          "height": 374
        },
        "id": "MruJxtju7MnO",
        "outputId": "431be671-641e-4134-ded7-758b27d06090"
      },
      "execution_count": 89,
      "outputs": [
        {
          "output_type": "display_data",
          "data": {
            "text/plain": [
              "<Figure size 648x432 with 1 Axes>"
            ],
            "image/png": "[encoded data removed]"
          },
          "metadata": {
            "needs_background": "light"
          }
        }
      ]
    },
    {
      "cell_type": "code",
      "source": [
        "from sklearn.model_selection import StratifiedShuffleSplit\n",
        "stratified_split = StratifiedShuffleSplit(n_splits=1, test_size=0.1, random_state=21)\n",
        "for train_index, test_index in stratified_split.split(df,df['class']):\n",
        "    strat_train_set = df.loc[train_index]\n",
        "    strat_test_set = df.loc[test_index]\n",
        "\n"
      ],
      "metadata": {
        "id": "W9vXTfPazprO"
      },
      "execution_count": 118,
      "outputs": []
    },
    {
      "cell_type": "code",
      "source": [
        "strat_train_set['class'].hist(bins=10, figsize=(9,6))\n",
        "plt.show()   # balansni saqlagan holda ma'lumotlarni bo'lib oldik"
      ],
      "metadata": {
        "colab": {
          "base_uri": "https://localhost:8080/",
          "height": 374
        },
        "id": "AkeJsE6B64zh",
        "outputId": "68f3c7e6-3e14-4a50-cfa1-e6ca4a7f70dd"
      },
      "execution_count": 120,
      "outputs": [
        {
          "output_type": "display_data",
          "data": {
            "text/plain": [
              "<Figure size 648x432 with 1 Axes>"
            ],
            "image/png": "[encoded data removed]"
          },
          "metadata": {
            "needs_background": "light"
          }
        }
      ]
    },
    {
      "cell_type": "code",
      "source": [
        "x_train = strat_train_set.drop(\"class\",axis=1).values\n",
        "y_train = strat_train_set[\"class\"].values\n",
        "\n",
        "x_test = strat_test_set.drop('class',axis=1).values\n",
        "y_test = strat_test_set[\"class\"].values"
      ],
      "metadata": {
        "id": "DHyLYqoR8CGM"
      },
      "execution_count": 121,
      "outputs": []
    },
    {
      "cell_type": "markdown",
      "source": [
        "## **Model quramiz**"
      ],
      "metadata": {
        "id": "J79TymQH3rzQ"
      }
    },
    {
      "cell_type": "markdown",
      "source": [
        "DecisionTreeclassifier"
      ],
      "metadata": {
        "id": "2LqecQJe8Uo4"
      }
    },
    {
      "cell_type": "code",
      "source": [
        "tree_model = DecisionTreeClassifier() #DecisionTreeClassifierdan foydalanib model qurib ko'ramiz\n",
        "tree_model.fit(x_train, y_train)"
      ],
      "metadata": {
        "colab": {
          "base_uri": "https://localhost:8080/"
        },
        "id": "Xplo74UZC2sW",
        "outputId": "edd57e91-54f2-48c0-f7c4-0e489d78d46b"
      },
      "execution_count": 122,
      "outputs": [
        {
          "output_type": "execute_result",
          "data": {
            "text/plain": [
              "DecisionTreeClassifier()"
            ]
          },
          "metadata": {},
          "execution_count": 122
        }
      ]
    },
    {
      "cell_type": "code",
      "source": [
        "predict = tree_model.predict(x_test)"
      ],
      "metadata": {
        "id": "Pm3FD4OrDjLq"
      },
      "execution_count": 123,
      "outputs": []
    },
    {
      "cell_type": "code",
      "source": [
        "sns.heatmap(confusion_matrix(predict,y_test),annot=True)\n",
        "plt.show()"
      ],
      "metadata": {
        "id": "oRtdxStu45YG",
        "outputId": "d2bfb28d-944f-48d9-f47c-8b7c0d81807d",
        "colab": {
          "base_uri": "https://localhost:8080/",
          "height": 265
        }
      },
      "execution_count": 124,
      "outputs": [
        {
          "output_type": "display_data",
          "data": {
            "text/plain": [
              "<Figure size 432x288 with 2 Axes>"
            ],
            "image/png": "[encoded data removed]"
          },
          "metadata": {
            "needs_background": "light"
          }
        }
      ]
    },
    {
      "cell_type": "code",
      "source": [
        "print(classification_report(y_test, predict)) "
      ],
      "metadata": {
        "colab": {
          "base_uri": "https://localhost:8080/"
        },
        "id": "tvE-h0HHDMdq",
        "outputId": "53c58bf0-247a-41ac-e42d-a34cd0d434b8"
      },
      "execution_count": 125,
      "outputs": [
        {
          "output_type": "stream",
          "name": "stdout",
          "text": [
            "              precision    recall  f1-score   support\n",
            "\n",
            "           1       0.32      0.29      0.30        62\n",
            "           2       0.69      0.68      0.68       322\n",
            "           3       0.65      0.66      0.66       257\n",
            "           4       0.62      0.64      0.63        61\n",
            "\n",
            "    accuracy                           0.64       702\n",
            "   macro avg       0.57      0.57      0.57       702\n",
            "weighted avg       0.63      0.64      0.64       702\n",
            "\n"
          ]
        }
      ]
    },
    {
      "cell_type": "code",
      "source": [
        "print(f\"Aniqlilik ehtimoli:{accuracy_score(predict,y_test)*100:.2f}%\")"
      ],
      "metadata": {
        "colab": {
          "base_uri": "https://localhost:8080/"
        },
        "id": "750BBFuyDZTe",
        "outputId": "1a350ea0-b67d-4473-bc95-2267a7f6ae13"
      },
      "execution_count": 130,
      "outputs": [
        {
          "output_type": "stream",
          "name": "stdout",
          "text": [
            "Aniqlilik ehtimoli:63.68%\n"
          ]
        }
      ]
    },
    {
      "cell_type": "markdown",
      "source": [
        "RandomforestClassifier"
      ],
      "metadata": {
        "id": "c_l5DEtR8leW"
      }
    },
    {
      "cell_type": "code",
      "source": [
        "RF_model = RandomForestClassifier(n_estimators=24)\n",
        "RF_model.fit(x_train,y_train)"
      ],
      "metadata": {
        "colab": {
          "base_uri": "https://localhost:8080/"
        },
        "id": "At5o1qaQENYP",
        "outputId": "ab088a76-00f8-40f1-a6aa-124877a674b6"
      },
      "execution_count": 146,
      "outputs": [
        {
          "output_type": "execute_result",
          "data": {
            "text/plain": [
              "RandomForestClassifier(n_estimators=24)"
            ]
          },
          "metadata": {},
          "execution_count": 146
        }
      ]
    },
    {
      "cell_type": "code",
      "source": [
        "predict = RF_model.predict(x_test)"
      ],
      "metadata": {
        "id": "AvrlBDo5EW_Z"
      },
      "execution_count": 147,
      "outputs": []
    },
    {
      "cell_type": "code",
      "source": [
        "print(classification_report(predict,y_test))"
      ],
      "metadata": {
        "colab": {
          "base_uri": "https://localhost:8080/"
        },
        "id": "2N737lNzIE4U",
        "outputId": "84112a54-da7a-4b27-d2dc-19c2e92d17c8"
      },
      "execution_count": 148,
      "outputs": [
        {
          "output_type": "stream",
          "name": "stdout",
          "text": [
            "              precision    recall  f1-score   support\n",
            "\n",
            "           1       0.19      0.55      0.29        22\n",
            "           2       0.88      0.68      0.76       416\n",
            "           3       0.69      0.78      0.73       227\n",
            "           4       0.59      0.97      0.73        37\n",
            "\n",
            "    accuracy                           0.72       702\n",
            "   macro avg       0.59      0.74      0.63       702\n",
            "weighted avg       0.78      0.72      0.74       702\n",
            "\n"
          ]
        }
      ]
    },
    {
      "cell_type": "code",
      "source": [
        "print(f\"Aniqlilik ehtimoli:{accuracy_score(predict,y_test)*100:.2f}%\")"
      ],
      "metadata": {
        "colab": {
          "base_uri": "https://localhost:8080/"
        },
        "id": "h2Pu9v-DiQdi",
        "outputId": "15585d34-57bf-4bcc-976c-9e8efbcccc1e"
      },
      "execution_count": 149,
      "outputs": [
        {
          "output_type": "stream",
          "name": "stdout",
          "text": [
            "Aniqlilik ehtimoli:72.22%\n"
          ]
        }
      ]
    },
    {
      "cell_type": "code",
      "source": [
        "from sklearn.model_selection import GridSearchCV\n",
        "\n",
        "param_grid = {'n_estimators': np.arange(1, 25)}\n",
        "\n",
        "knn_gscv = GridSearchCV(RF_model, param_grid, cv=5)\n",
        "\n",
        "knn_gscv.fit(x_train, y_train)  #eng yaxshi n_estimatorni topish algoritmi"
      ],
      "metadata": {
        "colab": {
          "base_uri": "https://localhost:8080/"
        },
        "id": "yF3wG_h3IMEH",
        "outputId": "2fd1bad9-aba8-4fc9-9f3e-7c7fe48655a9"
      },
      "execution_count": 150,
      "outputs": [
        {
          "output_type": "execute_result",
          "data": {
            "text/plain": [
              "GridSearchCV(cv=5, estimator=RandomForestClassifier(n_estimators=24),\n",
              "             param_grid={'n_estimators': array([ 1,  2,  3,  4,  5,  6,  7,  8,  9, 10, 11, 12, 13, 14, 15, 16, 17,\n",
              "       18, 19, 20, 21, 22, 23, 24])})"
            ]
          },
          "metadata": {},
          "execution_count": 150
        }
      ]
    },
    {
      "cell_type": "code",
      "source": [
        "knn_gscv.best_params_   #n_estimator = 21  bo'lganda model aniqligi yuqori bo'lar ekan"
      ],
      "metadata": {
        "colab": {
          "base_uri": "https://localhost:8080/"
        },
        "id": "Y4pEepXWIc9E",
        "outputId": "5a9c35db-c467-49fb-c41a-77593e5e8d4b"
      },
      "execution_count": 151,
      "outputs": [
        {
          "output_type": "execute_result",
          "data": {
            "text/plain": [
              "{'n_estimators': 21}"
            ]
          },
          "metadata": {},
          "execution_count": 151
        }
      ]
    },
    {
      "cell_type": "code",
      "source": [
        "RF_model = RandomForestClassifier(n_estimators=21)\n",
        "RF_model.fit(x_train,y_train)"
      ],
      "metadata": {
        "id": "XQb4vQGn9JYd",
        "outputId": "5cd40e54-010b-430e-eaaf-c0aaef15ddeb",
        "colab": {
          "base_uri": "https://localhost:8080/"
        }
      },
      "execution_count": 152,
      "outputs": [
        {
          "output_type": "execute_result",
          "data": {
            "text/plain": [
              "RandomForestClassifier(n_estimators=21)"
            ]
          },
          "metadata": {},
          "execution_count": 152
        }
      ]
    },
    {
      "cell_type": "code",
      "source": [
        "predict = RF_model.predict(x_test)"
      ],
      "metadata": {
        "id": "Ihs-CSFj9JVC"
      },
      "execution_count": 153,
      "outputs": []
    },
    {
      "cell_type": "code",
      "source": [
        "sns.heatmap(confusion_matrix(predict,y_test),annot=True)\n",
        "plt.show() #endi yaxshiroq"
      ],
      "metadata": {
        "id": "5I4U19Df9JRJ",
        "outputId": "b5c9c83a-9b2b-491b-9c1e-f370267556f7",
        "colab": {
          "base_uri": "https://localhost:8080/",
          "height": 265
        }
      },
      "execution_count": 154,
      "outputs": [
        {
          "output_type": "display_data",
          "data": {
            "text/plain": [
              "<Figure size 432x288 with 2 Axes>"
            ],
            "image/png": "[encoded data removed]"
          },
          "metadata": {
            "needs_background": "light"
          }
        }
      ]
    },
    {
      "cell_type": "code",
      "source": [
        "print(classification_report(predict,y_test))"
      ],
      "metadata": {
        "id": "7jblh5Jd9JOu",
        "outputId": "c736d940-9af8-4393-ec5f-3b677e27bcb0",
        "colab": {
          "base_uri": "https://localhost:8080/"
        }
      },
      "execution_count": 155,
      "outputs": [
        {
          "output_type": "stream",
          "name": "stdout",
          "text": [
            "              precision    recall  f1-score   support\n",
            "\n",
            "           1       0.18      0.52      0.27        21\n",
            "           2       0.88      0.67      0.76       421\n",
            "           3       0.68      0.80      0.74       221\n",
            "           4       0.59      0.92      0.72        39\n",
            "\n",
            "    accuracy                           0.72       702\n",
            "   macro avg       0.58      0.73      0.62       702\n",
            "weighted avg       0.78      0.72      0.74       702\n",
            "\n"
          ]
        }
      ]
    },
    {
      "cell_type": "code",
      "source": [
        "print(f\"Aniqlilik ehtimoli:{accuracy_score(predict,y_test)*100:.2f}%\")"
      ],
      "metadata": {
        "id": "3iOPYwQ19JMX",
        "outputId": "d32cd28b-2a4e-4b63-b4ca-ff7563e7b220",
        "colab": {
          "base_uri": "https://localhost:8080/"
        }
      },
      "execution_count": 156,
      "outputs": [
        {
          "output_type": "stream",
          "name": "stdout",
          "text": [
            "Aniqlilik ehtimoli:72.08%\n"
          ]
        }
      ]
    },
    {
      "cell_type": "markdown",
      "source": [
        "XGBOOST"
      ],
      "metadata": {
        "id": "ONU7VYoP_KhV"
      }
    },
    {
      "cell_type": "code",
      "source": [
        "#xgboost ni ham tekshirib ko'rishimiz mumkin\n",
        "xgb_model = XGBClassifier()"
      ],
      "metadata": {
        "id": "3CsD3jtPIi8C"
      },
      "execution_count": 158,
      "outputs": []
    },
    {
      "cell_type": "code",
      "source": [
        "xgb_model.fit(x_train,y_train)"
      ],
      "metadata": {
        "colab": {
          "base_uri": "https://localhost:8080/"
        },
        "id": "-Z4Q79tZhhvM",
        "outputId": "7ea3f004-b020-49a6-e80d-125069ef9984"
      },
      "execution_count": 159,
      "outputs": [
        {
          "output_type": "execute_result",
          "data": {
            "text/plain": [
              "XGBClassifier(objective='multi:softprob')"
            ]
          },
          "metadata": {},
          "execution_count": 159
        }
      ]
    },
    {
      "cell_type": "code",
      "source": [
        "predict = xgb_model.predict(x_test)"
      ],
      "metadata": {
        "id": "Gw86ZdkrhmFO"
      },
      "execution_count": 160,
      "outputs": []
    },
    {
      "cell_type": "code",
      "source": [
        "sns.heatmap(confusion_matrix(predict,y_test),annot=True)\n",
        "plt.show() "
      ],
      "metadata": {
        "id": "eBJKSZVQ_d8i",
        "outputId": "43beca03-0c4e-4e52-8948-f79fc19d2e73",
        "colab": {
          "base_uri": "https://localhost:8080/",
          "height": 269
        }
      },
      "execution_count": 162,
      "outputs": [
        {
          "output_type": "display_data",
          "data": {
            "text/plain": [
              "<Figure size 432x288 with 2 Axes>"
            ],
            "image/png": "[encoded data removed]"
          },
          "metadata": {
            "needs_background": "light"
          }
        }
      ]
    },
    {
      "cell_type": "code",
      "source": [
        "print(classification_report(predict,y_test))"
      ],
      "metadata": {
        "colab": {
          "base_uri": "https://localhost:8080/"
        },
        "id": "BaMKgzqmhsLj",
        "outputId": "c763d25d-fc95-4e38-c89c-dc1cb9ded4a2"
      },
      "execution_count": 163,
      "outputs": [
        {
          "output_type": "stream",
          "name": "stdout",
          "text": [
            "              precision    recall  f1-score   support\n",
            "\n",
            "           1       0.03      0.33      0.06         6\n",
            "           2       0.93      0.64      0.76       467\n",
            "           3       0.62      0.83      0.71       193\n",
            "           4       0.57      0.97      0.72        36\n",
            "\n",
            "    accuracy                           0.71       702\n",
            "   macro avg       0.54      0.69      0.56       702\n",
            "weighted avg       0.82      0.71      0.74       702\n",
            "\n"
          ]
        }
      ]
    },
    {
      "cell_type": "code",
      "source": [
        "print(f\"Aniqlilik ehtimoli:{accuracy_score(predict,y_test)*100:.2f}%\")"
      ],
      "metadata": {
        "colab": {
          "base_uri": "https://localhost:8080/"
        },
        "id": "2pmEqbWtiKe8",
        "outputId": "2a62bf65-8adc-4531-a953-999083befe8a"
      },
      "execution_count": 164,
      "outputs": [
        {
          "output_type": "stream",
          "name": "stdout",
          "text": [
            "Aniqlilik ehtimoli:70.94%\n"
          ]
        }
      ]
    },
    {
      "cell_type": "markdown",
      "source": [
        "XGBOOST modelidan foydalaman."
      ],
      "metadata": {
        "id": "EoHvVNjyC0A8"
      }
    },
    {
      "cell_type": "markdown",
      "source": [
        "## **Modelni saqlab olamiz....**"
      ],
      "metadata": {
        "id": "Xb_N2ptaCr20"
      }
    },
    {
      "cell_type": "code",
      "source": [
        "filename = 'xgb_model.pkl' \n",
        "with open(filename, 'wb') as file:\n",
        "    pickle.dump(xgb_model, file)"
      ],
      "metadata": {
        "id": "I3_ImrfFCvRW"
      },
      "execution_count": 171,
      "outputs": []
    },
    {
      "cell_type": "code",
      "source": [
        "# saqlagan modelimizni qayta ochish uchun ushbu koddan foydalanamiz..\n",
        "with open(filename, 'rb') as file:\n",
        "    xgb_model = pickle.load(file)"
      ],
      "metadata": {
        "id": "gsJoQNWJDKsR"
      },
      "execution_count": 173,
      "outputs": []
    }
  ]
}